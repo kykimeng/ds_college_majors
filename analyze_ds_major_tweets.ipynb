{
 "cells": [
  {
   "cell_type": "code",
   "execution_count": 33,
   "metadata": {},
   "outputs": [],
   "source": [
    "import tweepy as tw\n",
    "from tweepy import Cursor\n",
    "import pandas as pd\n",
    "\n",
    "consumer_key= 'Is5p8nvrLP95gOE6Gfvk5xWx1'\n",
    "consumer_secret= 'spW9HelgWRbmHJi5nqTCqmB0ZRbpaVxJPqlEYJC0hj07CniLMh'\n",
    "access_token= '862530259-0ZCLvH0q2yYcWhRqFR6LA1UPCShFHQUSyXPW8qwI'\n",
    "access_token_secret= 'OXSvX02CRViQK9ejzPswuftUWrDqTcU6ormcbhnlgmFib'\n",
    "\n",
    "auth = tw.OAuthHandler(consumer_key, consumer_secret)\n",
    "auth.set_access_token(access_token, access_token_secret)\n",
    "api = tw.API(auth, wait_on_rate_limit=True)\n",
    "\n",
    "\n",
    "target = 'KimmyKy2'\n",
    "\n",
    "search_words = \"@kimmyky2\"\n",
    "date_since = \"2019-06-09\""
   ]
  },
  {
   "cell_type": "code",
   "execution_count": 49,
   "metadata": {},
   "outputs": [],
   "source": [
    "tweets = tw.Cursor(api.search,\n",
    "              q=search_words,\n",
    "              lang=\"en\",\n",
    "              since=date_since).items()\n",
    "#for tweet in tweets:\n",
    "#    print(tweet.user.screen_name)\n",
    "    \n",
    "twts = [[tweet.user.screen_name, tweet.text] for tweet in tweets]\n",
    "tweet_text = pd.DataFrame(data=twts, \n",
    "                    columns=['user','text'])\n",
    "tweet_text\n",
    "\n",
    "tweet_text.to_csv(r'Data/ds_college_major_tweets_6_10_19.csv')"
   ]
  },
  {
   "cell_type": "code",
   "execution_count": 44,
   "metadata": {},
   "outputs": [],
   "source": []
  },
  {
   "cell_type": "code",
   "execution_count": 41,
   "metadata": {},
   "outputs": [
    {
     "name": "stdout",
     "output_type": "stream",
     "text": [
      "[]\n"
     ]
    }
   ],
   "source": []
  },
  {
   "cell_type": "code",
   "execution_count": 21,
   "metadata": {
    "collapsed": true
   },
   "outputs": [],
   "source": []
  },
  {
   "cell_type": "code",
   "execution_count": 19,
   "metadata": {},
   "outputs": [],
   "source": []
  },
  {
   "cell_type": "code",
   "execution_count": 20,
   "metadata": {},
   "outputs": [
    {
     "name": "stdout",
     "output_type": "stream",
     "text": [
      "['MetroTransitMN', 'elindie', 'JenRichmondPhD', 'DataCamp', 'TedPetrou', 'WeAreRLadies', 'kierisi', 'kierisi', 'WeAreRLadies', 'dgkeyes', 'ClausWilke', 'WeAreRLadies', 'WeAreRLadies', 'swmpkim', 'fawda123', 'crary016', 'rafalab', 'hadleywickham', 'rdpeng', 'AmeliaMN', 'AmeliaMN', 'AndrewWohlfeil', 'rlmcelreath', 'WeAreRLadies', 'TheBEAPLab', 'WeAreRLadies', 'daniellequinn88', 'RBarMUN', 'emiliegeiss', 'WeAreRLadies', 'CivicAngela', 'jeanniekim', 'WeAreRLadies', 'WeAreRLadies', 'katiejolly6', 'katiejolly6', 'sharlagelfand', 'hadleywickham', 'katiejolly6', 'thomas_mock', 'NexWebSites', 'KirkDBorne', 'stefpos', 'rlmcelreath', 'khailper', 'WeAreRLadies', 'WeAreRLadies', 'bryanl', 'bryanl', 'skyetetra', 'BecomingDataSci', 'BecomingDataSci', 'BecomingDataSci', 'shezzlovely', 'thomasp85', 'WeAreRLadies', 'rstudio', 'dataandme', 'jokergoo', 'elindie', 'drob', 'CMastication', 'sweetpeatwins', 'MNUFC', 'dann0016', 'elindie', 'leigh_tami18', 'HarvardBiz', 'kaggle', 'hyang144', 'WeAreRLadies', 'kdnuggets', 'canoodleson', 'KimmyKy2', 'dataandme', 'carroll_jono', 'RLadiesTC', 'AmeliaMN', 'hadleywickham', 'AmeliaMN', 'WeAreRLadies', 'WeAreRLadies', 'WeAreRLadies', 'WeAreRLadies', 'dataandme', 'tladeras', 'dataandme', 'drsimonj', 'MetroTransitMN', 'stribrooks', 'philmikejones', 'analyticbridge', 'WeAreRLadies', 'RLadiesGlobal', 'BecomingDataSci', 'LaurenKARE11', 'kare11', 'mnstatefair', 'AndrewWohlfeil', 'eamcvey', 'IAmCarolineMc', 'RLadiesTC', 'umnbiostat', 'RLadiesTC', 'KimmyKy2', 'drob', 'hadleywickham', 'rstudio', 'jimmyfallon', 'katiejolly6', 'katiejolly6', 'GueyeNono', 'amityf', 'MetroTransitMN', 'robinson_es', 'jimhester_', 'Aragish1', 'MetroTransitMN', 'shezzlovely', 'MetroTransitMN', 'MetroTransitMN', 'NBCTheVoice', 'MetroTransitMN', 'commers', 'RLadiesTC', 'KimmyKy2', 'shezzlovely', 'TIMEWorld', 'shezzlovely', '9GAG']\n",
      "['kitkat', 'metrotransit', 'rshiny', 'rstats', 'forcats', 'rstats', 'rstats', 'rstats', 'RLadies', 'rdatatable', 'tidylog', 'rspatial', 'ggplot2', 'rstats', 'rstats', 'dataviz', 'rstats', 'tidyverse', 'rstats', 'blogdown', 'gganimate', 'TidyTuesday', 'ggplot2', 'ggplot2', 'blogdown', 'rstats', 'rstats', 'rladies', 'forcats', 'forcats', 'forcats', 'rstats', 'rstats', 'macalestermoment', 'heymac', 'rstats', 'MetroTransitMN', 'transit', 'rladies', 'iwd2018', 'WhyImSingle', 'rstats', 'tidyverse', 'VoiceSaveAdam', 'NicolletMall']\n"
     ]
    }
   ],
   "source": []
  },
  {
   "cell_type": "code",
   "execution_count": 25,
   "metadata": {
    "collapsed": true
   },
   "outputs": [],
   "source": []
  },
  {
   "cell_type": "code",
   "execution_count": 24,
   "metadata": {},
   "outputs": [
    {
     "name": "stdout",
     "output_type": "stream",
     "text": [
      "KimmyKy2\n"
     ]
    }
   ],
   "source": []
  },
  {
   "cell_type": "markdown",
   "metadata": {},
   "source": []
  },
  {
   "cell_type": "code",
   "execution_count": null,
   "metadata": {
    "collapsed": true
   },
   "outputs": [],
   "source": []
  }
 ],
 "metadata": {
  "kernelspec": {
   "display_name": "Python 3",
   "language": "python",
   "name": "python3"
  },
  "language_info": {
   "codemirror_mode": {
    "name": "ipython",
    "version": 3
   },
   "file_extension": ".py",
   "mimetype": "text/x-python",
   "name": "python",
   "nbconvert_exporter": "python",
   "pygments_lexer": "ipython3",
   "version": "3.6.1"
  }
 },
 "nbformat": 4,
 "nbformat_minor": 2
}
